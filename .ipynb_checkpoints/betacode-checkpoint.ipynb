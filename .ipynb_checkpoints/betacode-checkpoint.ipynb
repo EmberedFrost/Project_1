{
 "cells": [
  {
   "cell_type": "code",
   "execution_count": 4,
   "metadata": {
    "tags": []
   },
   "outputs": [],
   "source": [
    "import yfinance as yf\n",
    "import pandas as pd\n",
    "import numpy as np\n",
    "import matplotlib.pyplot as plt\n",
    "from datetime import datetime\n",
    "from MCForecastTools import MCSimulation\n",
    "import joblib"
   ]
  },
  {
   "cell_type": "code",
   "execution_count": null,
   "metadata": {
    "tags": []
   },
   "outputs": [],
   "source": [
    "import joblib\n",
    "\n",
    "def get_stock_data(tickers, start_date=\"2023-01-01\", end_date=datetime.now().strftime('%Y-%m-%d')):\n",
    "    # Check if data is already in local cache\n",
    "    cache_filename = f\"data_{tickers}_{start_date}_{end_date}.pkl\"\n",
    "    if os.path.exists(cache_filename):\n",
    "        print(\"Loading data from cache...\")\n",
    "        stock_data = joblib.load(cache_filename)\n",
    "    else:\n",
    "        print(\"Fetching data from Yahoo Finance...\")\n",
    "        stock_data = yf.download(tickers, start=start_date, end=end_date)[\"Adj Close\"]\n",
    "        joblib.dump(stock_data, cache_filename)  # Save to local cache\n",
    "    return stock_data\n",
    "\n",
    "# ... [rest of the code remains the same]\n",
    "\n",
    "# Prompt the user to choose the simulation length\n",
    "user_input_years = input(\"Please enter the number of years for the simulation (3, 4, or 5): \")\n",
    "while user_input_years not in [\"3\", \"4\", \"5\"]:\n",
    "    print(\"Invalid input. Please enter 3, 4, or 5.\")\n",
    "    user_input_years = input(\"Please enter the number of years for the simulation (3, 4, or 5): \")\n",
    "\n",
    "num_years = int(user_input_years)\n",
    "\n",
    "# Fetch the stock data using the function\n",
    "portfolio_data = get_stock_data(tickers)\n",
    "print(portfolio_data.head())\n",
    "\n",
    "# Calculate daily returns for the portfolio data\n",
    "daily_returns = portfolio_data.pct_change()\n",
    "column_names = {ticker: ticker + \" daily_return\" for ticker in tickers}\n",
    "daily_returns = daily_returns.rename(columns=column_names)\n",
    "\n",
    "# Merge the dataframes to have closing prices and daily returns together\n",
    "portfolio_data = pd.concat([portfolio_data, daily_returns], axis=1)\n",
    "\n",
    "# Run the Monte Carlo Simulation\n",
    "weights = [1/len(tickers) for _ in tickers]\n",
    "mc_sim = MCSimulation(portfolio_data=portfolio_data, weights=weights, num_simulation=500, num_trading_days=252*num_years)\n",
    "\n",
    "mc_sim.calc_cumulative_return()\n",
    "mc_sim.plot_simulation()\n",
    "mc_sim.plot_distribution()\n",
    "print(mc_sim.summarize_cumulative_return())\n",
    "\n"
   ]
  },
  {
   "cell_type": "code",
   "execution_count": null,
   "metadata": {},
   "outputs": [],
   "source": [
    "\n",
    "# Fetch the stock data using the function\n",
    "portfolio_data = get_stock_data(tickers)\n",
    "print(portfolio_data.head())\n",
    "\n",
    "# Calculate daily returns for the portfolio data\n",
    "daily_returns = portfolio_data.pct_change()\n",
    "column_names = {ticker: ticker + \" daily_return\" for ticker in tickers}\n",
    "daily_returns = daily_returns.rename(columns=column_names)\n",
    "\n",
    "# Merge the dataframes to have closing prices and daily returns together\n",
    "portfolio_data = pd.concat([portfolio_data, daily_returns], axis=1)\n",
    "\n",
    "# Run the Monte Carlo Simulation\n",
    "weights = [1/len(tickers) for _ in tickers]\n",
    "mc_sim = MCSimulation(portfolio_data=portfolio_data, weights=weights, num_simulation=500, num_trading_days=252*num_years)\n",
    "\n",
    "mc_sim.calc_cumulative_return()\n",
    "mc_sim.plot_simulation()\n",
    "mc_sim.plot_distribution()\n",
    "print(mc_sim.summarize_cumulative_return())\n"
   ]
  },
  {
   "cell_type": "code",
   "execution_count": null,
   "metadata": {},
   "outputs": [],
   "source": []
  }
 ],
 "metadata": {
  "kernelspec": {
   "display_name": "Python 3 (ipykernel)",
   "language": "python",
   "name": "python3"
  },
  "language_info": {
   "codemirror_mode": {
    "name": "ipython",
    "version": 3
   },
   "file_extension": ".py",
   "mimetype": "text/x-python",
   "name": "python",
   "nbconvert_exporter": "python",
   "pygments_lexer": "ipython3",
   "version": "3.11.5"
  }
 },
 "nbformat": 4,
 "nbformat_minor": 4
}
