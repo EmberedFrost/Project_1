{
 "cells": [
  {
   "cell_type": "code",
   "execution_count": 1,
   "metadata": {
    "tags": []
   },
   "outputs": [
    {
     "name": "stdout",
     "output_type": "stream",
     "text": [
      "Please provide weights for  respectively, separated by commas (e.g. 0.4,0.3,0.3): \n"
     ]
    },
    {
     "ename": "ValueError",
     "evalue": "could not convert string to float: ''",
     "output_type": "error",
     "traceback": [
      "\u001b[1;31m---------------------------------------------------------------------------\u001b[0m",
      "\u001b[1;31mValueError\u001b[0m                                Traceback (most recent call last)",
      "\u001b[1;32mc:\\Users\\sergi\\OneDrive\\Escritorio\\Project_1\\betacode.ipynb Cell 1\u001b[0m line \u001b[0;36m2\n\u001b[0;32m     <a href='vscode-notebook-cell:/c%3A/Users/sergi/OneDrive/Escritorio/Project_1/betacode.ipynb#W0sZmlsZQ%3D%3D?line=18'>19</a>\u001b[0m \u001b[39mprint\u001b[39m(\u001b[39mf\u001b[39m\u001b[39m\"\u001b[39m\u001b[39mPlease provide weights for \u001b[39m\u001b[39m{\u001b[39;00m\u001b[39m'\u001b[39m\u001b[39m, \u001b[39m\u001b[39m'\u001b[39m\u001b[39m.\u001b[39mjoin(tickers)\u001b[39m}\u001b[39;00m\u001b[39m respectively, separated by commas (e.g. 0.4,0.3,0.3): \u001b[39m\u001b[39m\"\u001b[39m)\n\u001b[0;32m     <a href='vscode-notebook-cell:/c%3A/Users/sergi/OneDrive/Escritorio/Project_1/betacode.ipynb#W0sZmlsZQ%3D%3D?line=19'>20</a>\u001b[0m weights_input \u001b[39m=\u001b[39m \u001b[39minput\u001b[39m()\u001b[39m.\u001b[39msplit(\u001b[39m'\u001b[39m\u001b[39m,\u001b[39m\u001b[39m'\u001b[39m)\n\u001b[1;32m---> <a href='vscode-notebook-cell:/c%3A/Users/sergi/OneDrive/Escritorio/Project_1/betacode.ipynb#W0sZmlsZQ%3D%3D?line=20'>21</a>\u001b[0m weights \u001b[39m=\u001b[39m [\u001b[39mfloat\u001b[39m(x\u001b[39m.\u001b[39mstrip()) \u001b[39mfor\u001b[39;00m x \u001b[39min\u001b[39;00m weights_input]\n\u001b[0;32m     <a href='vscode-notebook-cell:/c%3A/Users/sergi/OneDrive/Escritorio/Project_1/betacode.ipynb#W0sZmlsZQ%3D%3D?line=22'>23</a>\u001b[0m \u001b[39m# Validate the weights sum to 1\u001b[39;00m\n\u001b[0;32m     <a href='vscode-notebook-cell:/c%3A/Users/sergi/OneDrive/Escritorio/Project_1/betacode.ipynb#W0sZmlsZQ%3D%3D?line=23'>24</a>\u001b[0m \u001b[39mwhile\u001b[39;00m \u001b[39mnot\u001b[39;00m (\u001b[39m0.99\u001b[39m \u001b[39m<\u001b[39m\u001b[39m=\u001b[39m \u001b[39msum\u001b[39m(weights) \u001b[39m<\u001b[39m\u001b[39m=\u001b[39m \u001b[39m1.01\u001b[39m):  \u001b[39m# Tolerating small rounding errors\u001b[39;00m\n",
      "\u001b[1;32mc:\\Users\\sergi\\OneDrive\\Escritorio\\Project_1\\betacode.ipynb Cell 1\u001b[0m line \u001b[0;36m2\n\u001b[0;32m     <a href='vscode-notebook-cell:/c%3A/Users/sergi/OneDrive/Escritorio/Project_1/betacode.ipynb#W0sZmlsZQ%3D%3D?line=18'>19</a>\u001b[0m \u001b[39mprint\u001b[39m(\u001b[39mf\u001b[39m\u001b[39m\"\u001b[39m\u001b[39mPlease provide weights for \u001b[39m\u001b[39m{\u001b[39;00m\u001b[39m'\u001b[39m\u001b[39m, \u001b[39m\u001b[39m'\u001b[39m\u001b[39m.\u001b[39mjoin(tickers)\u001b[39m}\u001b[39;00m\u001b[39m respectively, separated by commas (e.g. 0.4,0.3,0.3): \u001b[39m\u001b[39m\"\u001b[39m)\n\u001b[0;32m     <a href='vscode-notebook-cell:/c%3A/Users/sergi/OneDrive/Escritorio/Project_1/betacode.ipynb#W0sZmlsZQ%3D%3D?line=19'>20</a>\u001b[0m weights_input \u001b[39m=\u001b[39m \u001b[39minput\u001b[39m()\u001b[39m.\u001b[39msplit(\u001b[39m'\u001b[39m\u001b[39m,\u001b[39m\u001b[39m'\u001b[39m)\n\u001b[1;32m---> <a href='vscode-notebook-cell:/c%3A/Users/sergi/OneDrive/Escritorio/Project_1/betacode.ipynb#W0sZmlsZQ%3D%3D?line=20'>21</a>\u001b[0m weights \u001b[39m=\u001b[39m [\u001b[39mfloat\u001b[39;49m(x\u001b[39m.\u001b[39;49mstrip()) \u001b[39mfor\u001b[39;00m x \u001b[39min\u001b[39;00m weights_input]\n\u001b[0;32m     <a href='vscode-notebook-cell:/c%3A/Users/sergi/OneDrive/Escritorio/Project_1/betacode.ipynb#W0sZmlsZQ%3D%3D?line=22'>23</a>\u001b[0m \u001b[39m# Validate the weights sum to 1\u001b[39;00m\n\u001b[0;32m     <a href='vscode-notebook-cell:/c%3A/Users/sergi/OneDrive/Escritorio/Project_1/betacode.ipynb#W0sZmlsZQ%3D%3D?line=23'>24</a>\u001b[0m \u001b[39mwhile\u001b[39;00m \u001b[39mnot\u001b[39;00m (\u001b[39m0.99\u001b[39m \u001b[39m<\u001b[39m\u001b[39m=\u001b[39m \u001b[39msum\u001b[39m(weights) \u001b[39m<\u001b[39m\u001b[39m=\u001b[39m \u001b[39m1.01\u001b[39m):  \u001b[39m# Tolerating small rounding errors\u001b[39;00m\n",
      "\u001b[1;31mValueError\u001b[0m: could not convert string to float: ''"
     ]
    }
   ],
   "source": [
    "import yfinance as yf\n",
    "import pandas as pd\n",
    "import numpy as np\n",
    "import matplotlib.pyplot as plt\n",
    "from datetime import datetime\n",
    "from MCForecastTools import MCSimulation\n",
    "import warnings\n",
    "warnings.filterwarnings('ignore', category=pd.errors.PerformanceWarning)\n",
    "\n",
    "def get_stock_data(tickers, start_date=\"2020-01-01\", end_date=datetime.now().strftime('%Y-%m-%d')):\n",
    "    stock_data = yf.download(tickers, start=start_date, end=end_date)[\"Adj Close\"]\n",
    "    return stock_data\n",
    "\n",
    "# Prompt the user for tickers\n",
    "user_input = input(\"Please enter stock tickers separated by commas (e.g. AAPL,MSFT,GOOGL): \")\n",
    "tickers = [x.strip().upper() for x in user_input.split(\",\")]\n",
    "\n",
    "# Prompt the user for the weights of each ticker\n",
    "print(f\"Please provide weights for {', '.join(tickers)} respectively, separated by commas (e.g. 0.4,0.3,0.3): \")\n",
    "weights_input = input().split(',')\n",
    "weights = [float(x.strip()) for x in weights_input]\n",
    "\n",
    "# Validate the weights sum to 1\n",
    "while not (0.99 <= sum(weights) <= 1.01):  # Tolerating small rounding errors\n",
    "    print(\"Weights do not sum up to 1. Please try again.\")\n",
    "    print(f\"Please provide weights for {', '.join(tickers)} respectively, separated by commas: \")\n",
    "    weights_input = input().split(',')\n",
    "    weights = [float(x.strip()) for x in weights_input]\n",
    "\n",
    "# Prompt the user to choose the simulation length\n",
    "user_input_years = input(\"Please enter the number of years for the simulation (3, 4, or 5): \")\n",
    "while user_input_years not in [\"3\", \"4\", \"5\"]:\n",
    "    print(\"Invalid input. Please enter 3, 4, or 5.\")\n",
    "    user_input_years = input(\"Please enter the number of years for the simulation (3, 4, or 5): \")\n",
    "S\n",
    "num_years = int(user_input_years)\n",
    "\n",
    "# Fetch the stock data using the function\n",
    "portfolio_data = get_stock_data(tickers)\n",
    "\n",
    "# Structure portfolio_data to have multi-level columns\n",
    "portfolio_data.columns = pd.MultiIndex.from_product([portfolio_data.columns, ['close']])\n",
    "\n",
    "# Calculate daily returns and add to the portfolio data\n",
    "for ticker in tickers:\n",
    "    portfolio_data[(ticker, 'daily_return')] = portfolio_data[ticker]['close'].pct_change()\n",
    "\n",
    "# Display a portion of the data to verify structure\n",
    "print(portfolio_data.head())\n",
    "\n",
    "# Run the Monte Carlo Simulation\n",
    "mc_sim = MCSimulation(portfolio_data=portfolio_data, weights=weights, num_simulation=500, num_trading_days=252*num_years)\n",
    "mc_sim.calc_cumulative_return()\n",
    "mc_sim.plot_simulation()\n",
    "mc_sim.plot_distribution()\n",
    "\n",
    "# Compute summary statistics from the simulated daily returns\n",
    "simulated_returns_data = {\n",
    "    \"mean\": list(mc_sim.simulated_return.mean(axis=1)),\n",
    "    \"median\": list(mc_sim.simulated_return.median(axis=1)),\n",
    "    \"min\": list(mc_sim.simulated_return.min(axis=1)),\n",
    "    \"max\": list(mc_sim.simulated_return.max(axis=1))\n",
    "}\n",
    "\n",
    "# Create a DataFrame with the summary statistics\n",
    "df_simulated_returns = pd.DataFrame(simulated_returns_data)\n",
    "\n",
    "# Display sample data\n",
    "print(df_simulated_returns.head())\n",
    "\n",
    "# Calculate portfolio performance over time under `initial_investment`\n",
    "initial_investment = 1000\n",
    "cumulative_pnl = initial_investment * df_simulated_returns['mean']\n",
    "\n",
    "# Plot the cumulative returns over time\n",
    "cumulative_pnl.plot(figsize=(10,5))\n",
    "plt.title(f\"Cumulative Portfolio Performance Over {num_years} Years\")\n",
    "plt.show()\n",
    "\n",
    "\n"
   ]
  },
  {
   "cell_type": "code",
   "execution_count": null,
   "metadata": {},
   "outputs": [],
   "source": []
  }
 ],
 "metadata": {
  "kernelspec": {
   "display_name": "Python 3 (ipykernel)",
   "language": "python",
   "name": "python3"
  },
  "language_info": {
   "codemirror_mode": {
    "name": "ipython",
    "version": 3
   },
   "file_extension": ".py",
   "mimetype": "text/x-python",
   "name": "python",
   "nbconvert_exporter": "python",
   "pygments_lexer": "ipython3",
   "version": "3.10.13"
  }
 },
 "nbformat": 4,
 "nbformat_minor": 4
}
